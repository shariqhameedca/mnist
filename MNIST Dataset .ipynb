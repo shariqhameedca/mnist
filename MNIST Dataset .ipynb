{
 "cells": [
  {
   "cell_type": "markdown",
   "id": "5e3a0a65",
   "metadata": {},
   "source": [
    "# MNIST Digit Recognition"
   ]
  },
  {
   "cell_type": "markdown",
   "id": "c64ef275",
   "metadata": {},
   "source": [
    "### Loading important libraries"
   ]
  },
  {
   "cell_type": "code",
   "execution_count": 64,
   "id": "286348aa",
   "metadata": {},
   "outputs": [],
   "source": [
    "import sklearn\n",
    "import numpy as np\n",
    "import pandas as pd\n",
    "from matplotlib import pyplot as plt\n",
    "from sklearn.datasets import fetch_openml"
   ]
  },
  {
   "cell_type": "markdown",
   "id": "9b924e62",
   "metadata": {},
   "source": [
    "### Fetching dataset"
   ]
  },
  {
   "cell_type": "code",
   "execution_count": 65,
   "id": "34ed136d",
   "metadata": {},
   "outputs": [],
   "source": [
    "mnist = fetch_openml('mnist_784', version=1)"
   ]
  },
  {
   "cell_type": "markdown",
   "id": "56996296",
   "metadata": {},
   "source": [
    "### Exploring mnist"
   ]
  },
  {
   "cell_type": "code",
   "execution_count": 66,
   "id": "fac7c856",
   "metadata": {},
   "outputs": [
    {
     "data": {
      "text/plain": [
       "dict_keys(['data', 'target', 'frame', 'categories', 'feature_names', 'target_names', 'DESCR', 'details', 'url'])"
      ]
     },
     "execution_count": 66,
     "metadata": {},
     "output_type": "execute_result"
    }
   ],
   "source": [
    "mnist.keys()"
   ]
  },
  {
   "cell_type": "markdown",
   "id": "060094b5",
   "metadata": {},
   "source": [
    "**The fetched mnist is a dictionary with keys listed above, 'data' key has all the data which includes pixel details of every instance, 'target' key has the target labels. 'DESCR' key has description of the dataset**"
   ]
  },
  {
   "cell_type": "markdown",
   "id": "4c61bf92",
   "metadata": {},
   "source": [
    "### Splitting data and target"
   ]
  },
  {
   "cell_type": "code",
   "execution_count": 67,
   "id": "d09abc1a",
   "metadata": {},
   "outputs": [],
   "source": [
    "X, y = mnist['data'], mnist['target']"
   ]
  },
  {
   "cell_type": "markdown",
   "id": "f84991ad",
   "metadata": {},
   "source": [
    "### Shape of data"
   ]
  },
  {
   "cell_type": "code",
   "execution_count": 68,
   "id": "b60fbfbe",
   "metadata": {},
   "outputs": [
    {
     "data": {
      "text/plain": [
       "(70000, 784)"
      ]
     },
     "execution_count": 68,
     "metadata": {},
     "output_type": "execute_result"
    }
   ],
   "source": [
    "X.shape"
   ]
  },
  {
   "cell_type": "markdown",
   "id": "c40cce1a",
   "metadata": {},
   "source": [
    "**Each image is 28x28 pixels. So, there are 784 features in our 'data'**"
   ]
  },
  {
   "cell_type": "code",
   "execution_count": 69,
   "id": "aac08736",
   "metadata": {},
   "outputs": [
    {
     "data": {
      "text/plain": [
       "(70000,)"
      ]
     },
     "execution_count": 69,
     "metadata": {},
     "output_type": "execute_result"
    }
   ],
   "source": [
    "y.shape"
   ]
  },
  {
   "cell_type": "markdown",
   "id": "a54558ef",
   "metadata": {},
   "source": [
    "### Displaying a random digit"
   ]
  },
  {
   "cell_type": "code",
   "execution_count": 70,
   "id": "dc70d1ed",
   "metadata": {},
   "outputs": [],
   "source": [
    "some_digit = X.loc[0]"
   ]
  },
  {
   "cell_type": "code",
   "execution_count": 71,
   "id": "82ad5e27",
   "metadata": {},
   "outputs": [],
   "source": [
    "some_digit = np.array(some_digit).reshape(28,28)"
   ]
  },
  {
   "cell_type": "code",
   "execution_count": 72,
   "id": "c842160e",
   "metadata": {},
   "outputs": [
    {
     "data": {
      "image/png": "[encoded data removed]",
      "text/plain": [
       "<Figure size 432x288 with 1 Axes>"
      ]
     },
     "metadata": {
      "needs_background": "light"
     },
     "output_type": "display_data"
    }
   ],
   "source": [
    "plt.imshow(some_digit, cmap='binary')\n",
    "plt.show()"
   ]
  },
  {
   "cell_type": "code",
   "execution_count": 73,
   "id": "cc461521",
   "metadata": {},
   "outputs": [
    {
     "data": {
      "text/plain": [
       "'5'"
      ]
     },
     "execution_count": 73,
     "metadata": {},
     "output_type": "execute_result"
    }
   ],
   "source": [
    "y.loc[0]"
   ]
  },
  {
   "cell_type": "code",
   "execution_count": 74,
   "id": "43522255",
   "metadata": {},
   "outputs": [],
   "source": [
    "y = y.astype(np.uint8)"
   ]
  },
  {
   "cell_type": "markdown",
   "id": "9a3d71c9",
   "metadata": {},
   "source": [
    "*Changing type of y from string to integer*`"
   ]
  },
  {
   "cell_type": "markdown",
   "id": "e1308426",
   "metadata": {},
   "source": [
    "### Train test split"
   ]
  },
  {
   "cell_type": "code",
   "execution_count": 75,
   "id": "30eccb56",
   "metadata": {},
   "outputs": [],
   "source": [
    "X_train, X_test, y_train, y_test = X[:60000], X[60000:], y[:60000], y[60000:]"
   ]
  },
  {
   "cell_type": "markdown",
   "id": "fef33fe7",
   "metadata": {},
   "source": [
    "### Preparing Labels for a digit-5-classifier"
   ]
  },
  {
   "cell_type": "code",
   "execution_count": 76,
   "id": "8b09174e",
   "metadata": {},
   "outputs": [],
   "source": [
    "y_train_5 = (y_train == 5)\n",
    "y_test_5 = (y_test == 5)"
   ]
  },
  {
   "cell_type": "markdown",
   "id": "61be780b",
   "metadata": {},
   "source": [
    "### Training a Stochastic Gradient Descent Model"
   ]
  },
  {
   "cell_type": "code",
   "execution_count": 77,
   "id": "ba354f07",
   "metadata": {},
   "outputs": [
    {
     "data": {
      "text/plain": [
       "SGDClassifier(random_state=42)"
      ]
     },
     "execution_count": 77,
     "metadata": {},
     "output_type": "execute_result"
    }
   ],
   "source": [
    "from sklearn.linear_model import SGDClassifier\n",
    "\n",
    "sgd_clf = SGDClassifier(random_state=42)\n",
    "sgd_clf.fit(X_train, y_train_5)"
   ]
  },
  {
   "cell_type": "code",
   "execution_count": 78,
   "id": "e90214ae",
   "metadata": {},
   "outputs": [
    {
     "data": {
      "text/plain": [
       "array([ True])"
      ]
     },
     "execution_count": 78,
     "metadata": {},
     "output_type": "execute_result"
    }
   ],
   "source": [
    "sgd_clf.predict([X_train.loc[0]])"
   ]
  },
  {
   "cell_type": "markdown",
   "id": "c10b3571",
   "metadata": {},
   "source": [
    "### Evaluating the model"
   ]
  },
  {
   "cell_type": "markdown",
   "id": "eb1b7bd4",
   "metadata": {},
   "source": [
    "**Evaluating a classifer is different from evaluating regressors. Accuracy may not be a good indicator of how a model performs. So, we use confusion matrix, precision, recall, f1_score, ROC curves**"
   ]
  },
  {
   "cell_type": "code",
   "execution_count": 79,
   "id": "7c1a6ead",
   "metadata": {},
   "outputs": [],
   "source": [
    "from sklearn.model_selection import cross_val_predict\n",
    "\n",
    "y_train_pred = cross_val_predict(sgd_clf, X_train, y_train_5, cv=3)"
   ]
  },
  {
   "cell_type": "code",
   "execution_count": 80,
   "id": "51cf82e4",
   "metadata": {},
   "outputs": [
    {
     "data": {
      "text/plain": [
       "array([[53892,   687],\n",
       "       [ 1891,  3530]], dtype=int64)"
      ]
     },
     "execution_count": 80,
     "metadata": {},
     "output_type": "execute_result"
    }
   ],
   "source": [
    "from sklearn.metrics import confusion_matrix\n",
    "\n",
    "confusion_matrix(y_train_5, y_train_pred)"
   ]
  },
  {
   "cell_type": "markdown",
   "id": "6e7cc74a",
   "metadata": {},
   "source": [
    "- **53892 times the model said \"True\" and it was actually 'True'**\n",
    "- **687 times it said \"False\" but it was actually 'True'**\n",
    "- **1891 times it said \"True\" but it was actually 'False'**\n",
    "- **3530 times it said \"False\" and it was actually 'False'**"
   ]
  },
  {
   "cell_type": "markdown",
   "id": "98db2250",
   "metadata": {},
   "source": [
    "**Precision:** Precision is the percentage of true predictions whenever the model predicts \"True\" <br>\n",
    "**Recall:** Recall is the percentage of true classes actually detected     "
   ]
  },
  {
   "cell_type": "code",
   "execution_count": 81,
   "id": "49b325ac",
   "metadata": {},
   "outputs": [
    {
     "data": {
      "text/plain": [
       "0.6511713705958311"
      ]
     },
     "execution_count": 81,
     "metadata": {},
     "output_type": "execute_result"
    }
   ],
   "source": [
    "from sklearn.metrics import precision_score, recall_score, accuracy_score, f1_score\n",
    "\n",
    "prec_score = precision_score(y_train_5, y_train_pred)\n",
    "rec_score = recall_score(y_train_5, y_train_pred)\n",
    "\n",
    "rec_score"
   ]
  },
  {
   "cell_type": "markdown",
   "id": "740d299f",
   "metadata": {},
   "source": [
    "**F1 Score:** F1 score is the harmonic mean of Precision and Recall. F1 score is only high when both Precision and Recall are high"
   ]
  },
  {
   "cell_type": "code",
   "execution_count": 82,
   "id": "293a4e4c",
   "metadata": {},
   "outputs": [],
   "source": [
    "def score(y_train, predictions):\n",
    "    cf_matrix = confusion_matrix(y_train, predictions)\n",
    "    prec_score = precision_score(y_train, predictions)\n",
    "    rec_score = recall_score(y_train, predictions)\n",
    "    acc_score = accuracy_score(y_train, predictions)\n",
    "    f1_sc = f1_score(y_train, predictions)\n",
    "    \n",
    "    return cf_matrix, prec_score, rec_score, acc_score, f1_sc"
   ]
  },
  {
   "cell_type": "code",
   "execution_count": 83,
   "id": "c2f3ea4d",
   "metadata": {},
   "outputs": [
    {
     "data": {
      "text/plain": [
       "(array([[53892,   687],\n",
       "        [ 1891,  3530]], dtype=int64),\n",
       " 0.8370879772350012,\n",
       " 0.6511713705958311,\n",
       " 0.9570333333333333,\n",
       " 0.7325171197343846)"
      ]
     },
     "execution_count": 83,
     "metadata": {},
     "output_type": "execute_result"
    }
   ],
   "source": [
    "score(y_train_5, y_train_pred)"
   ]
  },
  {
   "cell_type": "markdown",
   "id": "deadc8b5",
   "metadata": {},
   "source": [
    "**SGD Classifier's decision function computes a score for a specific instance. It can be shown by decision_function()**"
   ]
  },
  {
   "cell_type": "code",
   "execution_count": 84,
   "id": "e51718bf",
   "metadata": {},
   "outputs": [],
   "source": [
    "scores = sgd_clf.decision_function([X.loc[0]])"
   ]
  },
  {
   "cell_type": "code",
   "execution_count": 85,
   "id": "582b203e",
   "metadata": {},
   "outputs": [
    {
     "data": {
      "text/plain": [
       "array([2164.22030239])"
      ]
     },
     "execution_count": 85,
     "metadata": {},
     "output_type": "execute_result"
    }
   ],
   "source": [
    "scores"
   ]
  },
  {
   "cell_type": "markdown",
   "id": "d997964f",
   "metadata": {},
   "source": [
    "**By default SGD uses 0 as threshold but you can make predictions using a different threshold**"
   ]
  },
  {
   "cell_type": "code",
   "execution_count": 86,
   "id": "bf27edea",
   "metadata": {},
   "outputs": [],
   "source": [
    "threshold = 0\n",
    "y_some_dig_pred = scores > threshold"
   ]
  },
  {
   "cell_type": "code",
   "execution_count": 87,
   "id": "55b1c2c8",
   "metadata": {},
   "outputs": [
    {
     "data": {
      "text/plain": [
       "array([ True])"
      ]
     },
     "execution_count": 87,
     "metadata": {},
     "output_type": "execute_result"
    }
   ],
   "source": [
    "y_some_dig_pred"
   ]
  },
  {
   "cell_type": "code",
   "execution_count": 88,
   "id": "c843a457",
   "metadata": {},
   "outputs": [],
   "source": [
    "# Increasing thresold will increase precision but it will decrease recall\n",
    "\n",
    "threshold = 8000\n",
    "\n",
    "y_some_dig_pred = scores > threshold"
   ]
  },
  {
   "cell_type": "code",
   "execution_count": 89,
   "id": "361f2079",
   "metadata": {},
   "outputs": [
    {
     "data": {
      "text/plain": [
       "array([False])"
      ]
     },
     "execution_count": 89,
     "metadata": {},
     "output_type": "execute_result"
    }
   ],
   "source": [
    "y_some_dig_pred"
   ]
  },
  {
   "cell_type": "code",
   "execution_count": 90,
   "id": "ddb15cb1",
   "metadata": {},
   "outputs": [],
   "source": [
    "y_scores = cross_val_predict(sgd_clf, X_train, y_train_5, cv=3, method=\"decision_function\")"
   ]
  },
  {
   "cell_type": "code",
   "execution_count": 91,
   "id": "ebe785be",
   "metadata": {},
   "outputs": [
    {
     "data": {
      "text/plain": [
       "array([  1200.93051237, -26883.79202424, -33072.03475406, ...,\n",
       "        13272.12718981,  -7258.47203373, -16877.50840447])"
      ]
     },
     "execution_count": 91,
     "metadata": {},
     "output_type": "execute_result"
    }
   ],
   "source": [
    "y_scores"
   ]
  },
  {
   "cell_type": "markdown",
   "id": "f6e78079",
   "metadata": {},
   "source": [
    "### Precision drops as recall rises and vice versa"
   ]
  },
  {
   "cell_type": "code",
   "execution_count": 92,
   "id": "b6a486c4",
   "metadata": {},
   "outputs": [],
   "source": [
    "from sklearn.metrics import precision_recall_curve"
   ]
  },
  {
   "cell_type": "code",
   "execution_count": 93,
   "id": "e6b857b6",
   "metadata": {},
   "outputs": [],
   "source": [
    "precisions, recalls, thresholds = precision_recall_curve(y_train_5, y_scores)"
   ]
  },
  {
   "cell_type": "code",
   "execution_count": 94,
   "id": "5abc04b7",
   "metadata": {},
   "outputs": [],
   "source": [
    "def plot_precision_recall_vs_threshold(precisions, recalls, thresholds):\n",
    "    plt.plot(thresholds, precisions[:-1], \"b--\", label=\"Precision\")\n",
    "    plt.plot(thresholds, recalls[:-1], \"g-\", label=\"Recall\")\n"
   ]
  },
  {
   "cell_type": "code",
   "execution_count": 95,
   "id": "b27d97f7",
   "metadata": {},
   "outputs": [
    {
     "data": {
      "image/png": "[encoded data removed]",
      "text/plain": [
       "<Figure size 432x288 with 1 Axes>"
      ]
     },
     "metadata": {
      "needs_background": "light"
     },
     "output_type": "display_data"
    }
   ],
   "source": [
    "plot_precision_recall_vs_threshold(precisions, recalls, thresholds)\n",
    "plt.show()\n"
   ]
  },
  {
   "cell_type": "markdown",
   "id": "5c6da57c",
   "metadata": {},
   "source": [
    "### Threshold that gives a specific precision"
   ]
  },
  {
   "cell_type": "code",
   "execution_count": 96,
   "id": "668ca466",
   "metadata": {},
   "outputs": [],
   "source": [
    "threshold_90_prec = thresholds[np.argmax(precisions >= 0.90)]"
   ]
  },
  {
   "cell_type": "code",
   "execution_count": 97,
   "id": "8fd1b58b",
   "metadata": {},
   "outputs": [],
   "source": [
    "y_train_pred_90 = y_scores > threshold_90_prec"
   ]
  },
  {
   "cell_type": "code",
   "execution_count": 98,
   "id": "4ce458bf",
   "metadata": {},
   "outputs": [
    {
     "data": {
      "text/plain": [
       "0.9"
      ]
     },
     "execution_count": 98,
     "metadata": {},
     "output_type": "execute_result"
    }
   ],
   "source": [
    "precision_score(y_train_5, y_train_pred_90)"
   ]
  },
  {
   "cell_type": "code",
   "execution_count": 99,
   "id": "04502817",
   "metadata": {},
   "outputs": [
    {
     "data": {
      "text/plain": [
       "0.47980077476480354"
      ]
     },
     "execution_count": 99,
     "metadata": {},
     "output_type": "execute_result"
    }
   ],
   "source": [
    "recall_score(y_train_5, y_train_pred_90)"
   ]
  },
  {
   "cell_type": "markdown",
   "id": "32798925",
   "metadata": {},
   "source": [
    "### ROC Curve is another way to evaluate a model's classification"
   ]
  },
  {
   "cell_type": "code",
   "execution_count": 100,
   "id": "10576d58",
   "metadata": {},
   "outputs": [],
   "source": [
    "from sklearn.metrics import roc_curve"
   ]
  },
  {
   "cell_type": "code",
   "execution_count": 101,
   "id": "4d3e8c9d",
   "metadata": {},
   "outputs": [],
   "source": [
    "fpr, tpr, thresholds = roc_curve(y_train_5, y_scores)"
   ]
  },
  {
   "cell_type": "code",
   "execution_count": 102,
   "id": "97272abd",
   "metadata": {},
   "outputs": [],
   "source": [
    "def plot_roc_curve(fpr, tpr, label=None):\n",
    "    plt.plot(fpr, tpr, linewidth=2, label=label)\n",
    "    plt.plot([0, 1], [0, 1], 'k--') #"
   ]
  },
  {
   "cell_type": "code",
   "execution_count": 103,
   "id": "43ec0228",
   "metadata": {},
   "outputs": [
    {
     "data": {
      "image/png": "[encoded data removed]",
      "text/plain": [
       "<Figure size 432x288 with 1 Axes>"
      ]
     },
     "metadata": {
      "needs_background": "light"
     },
     "output_type": "display_data"
    }
   ],
   "source": [
    "plot_roc_curve(fpr, tpr)\n",
    "plt.show()"
   ]
  },
  {
   "cell_type": "markdown",
   "id": "745c5865",
   "metadata": {},
   "source": [
    "### Area under ROC Curve"
   ]
  },
  {
   "cell_type": "code",
   "execution_count": 104,
   "id": "68ceb3c2",
   "metadata": {},
   "outputs": [
    {
     "data": {
      "text/plain": [
       "0.9604938554008616"
      ]
     },
     "execution_count": 104,
     "metadata": {},
     "output_type": "execute_result"
    }
   ],
   "source": [
    "from sklearn.metrics import roc_auc_score\n",
    "\n",
    "roc_auc_score(y_train_5, y_scores)"
   ]
  },
  {
   "cell_type": "code",
   "execution_count": 105,
   "id": "78665066",
   "metadata": {},
   "outputs": [],
   "source": [
    "from sklearn.ensemble import RandomForestClassifier \n",
    "\n",
    "forest_clf = RandomForestClassifier(random_state=42)\n",
    "y_probas_forest = cross_val_predict(forest_clf, X_train, y_train_5, method=\"predict_proba\")"
   ]
  },
  {
   "cell_type": "code",
   "execution_count": 106,
   "id": "535f1159",
   "metadata": {},
   "outputs": [
    {
     "data": {
      "text/plain": [
       "array([[0.14, 0.86],\n",
       "       [0.99, 0.01],\n",
       "       [0.98, 0.02],\n",
       "       ...,\n",
       "       [0.01, 0.99],\n",
       "       [0.96, 0.04],\n",
       "       [0.96, 0.04]])"
      ]
     },
     "execution_count": 106,
     "metadata": {},
     "output_type": "execute_result"
    }
   ],
   "source": [
    "y_probas_forest"
   ]
  },
  {
   "cell_type": "code",
   "execution_count": 107,
   "id": "cb552b60",
   "metadata": {},
   "outputs": [],
   "source": [
    "y_scores_forest = y_probas_forest[:, 1] "
   ]
  },
  {
   "cell_type": "code",
   "execution_count": 108,
   "id": "6ba3ef2d",
   "metadata": {},
   "outputs": [],
   "source": [
    "fpr_forest, tpr_forest, thresholds_forest = roc_curve(y_train_5, y_scores_forest)"
   ]
  },
  {
   "cell_type": "code",
   "execution_count": 109,
   "id": "93afc553",
   "metadata": {},
   "outputs": [
    {
     "data": {
      "image/png": "[encoded data removed]",
      "text/plain": [
       "<Figure size 432x288 with 1 Axes>"
      ]
     },
     "metadata": {
      "needs_background": "light"
     },
     "output_type": "display_data"
    }
   ],
   "source": [
    "plot_roc_curve(fpr_forest, tpr_forest)\n",
    "plt.show()"
   ]
  },
  {
   "cell_type": "code",
   "execution_count": 110,
   "id": "6b9d2b93",
   "metadata": {},
   "outputs": [
    {
     "data": {
      "text/plain": [
       "0.998402186461512"
      ]
     },
     "execution_count": 110,
     "metadata": {},
     "output_type": "execute_result"
    }
   ],
   "source": [
    "from sklearn.metrics import roc_auc_score\n",
    "\n",
    "roc_auc_score(y_train_5, y_scores_forest)"
   ]
  },
  {
   "cell_type": "markdown",
   "id": "329de814",
   "metadata": {},
   "source": [
    "### Comparing ROC curves of two different Classifiers"
   ]
  },
  {
   "cell_type": "code",
   "execution_count": 111,
   "id": "8eaeb1ec",
   "metadata": {},
   "outputs": [
    {
     "data": {
      "image/png": "[encoded data removed]",
      "text/plain": [
       "<Figure size 432x288 with 1 Axes>"
      ]
     },
     "metadata": {
      "needs_background": "light"
     },
     "output_type": "display_data"
    }
   ],
   "source": [
    "plt.plot(fpr, tpr, \"b:\", label=\"SGD\")\n",
    "plot_roc_curve(fpr_forest, tpr_forest, \"Random Forest\")\n",
    "plt.legend(loc=\"lower right\")\n",
    "plt.show()\n"
   ]
  },
  {
   "cell_type": "markdown",
   "id": "d4a98d7c",
   "metadata": {},
   "source": [
    "**As you can see Random Forest has higher area under ROC curve than SGD**"
   ]
  },
  {
   "cell_type": "markdown",
   "id": "eca55013",
   "metadata": {},
   "source": [
    "**Precision and recall for Random Forest**"
   ]
  },
  {
   "cell_type": "code",
   "execution_count": 112,
   "id": "1419cad3",
   "metadata": {},
   "outputs": [],
   "source": [
    "forest_clf.fit(X_train, y_train_5)\n",
    "y_rf_predict = forest_clf.predict(X_test)"
   ]
  },
  {
   "cell_type": "code",
   "execution_count": 113,
   "id": "2f4e3d97",
   "metadata": {},
   "outputs": [
    {
     "data": {
      "text/plain": [
       "0.993581514762516"
      ]
     },
     "execution_count": 113,
     "metadata": {},
     "output_type": "execute_result"
    }
   ],
   "source": [
    "precision_score(y_test_5,y_rf_predict)"
   ]
  },
  {
   "cell_type": "code",
   "execution_count": 114,
   "id": "5001ae15",
   "metadata": {},
   "outputs": [
    {
     "data": {
      "text/plain": [
       "0.8677130044843049"
      ]
     },
     "execution_count": 114,
     "metadata": {},
     "output_type": "execute_result"
    }
   ],
   "source": [
    "recall_score(y_test_5, y_rf_predict)"
   ]
  },
  {
   "cell_type": "markdown",
   "id": "c032bd39",
   "metadata": {},
   "source": [
    "### Multi Class Classification"
   ]
  },
  {
   "cell_type": "code",
   "execution_count": 115,
   "id": "d78995f6",
   "metadata": {},
   "outputs": [],
   "source": [
    "from sklearn.svm import SVC"
   ]
  },
  {
   "cell_type": "code",
   "execution_count": 116,
   "id": "c5efacd0",
   "metadata": {},
   "outputs": [
    {
     "data": {
      "text/plain": [
       "SVC()"
      ]
     },
     "execution_count": 116,
     "metadata": {},
     "output_type": "execute_result"
    }
   ],
   "source": [
    "svc_clf = SVC()\n",
    "\n",
    "svc_clf.fit(X_train, y_train)"
   ]
  },
  {
   "cell_type": "code",
   "execution_count": 117,
   "id": "da38e8f4",
   "metadata": {},
   "outputs": [
    {
     "data": {
      "text/plain": [
       "array([2], dtype=uint8)"
      ]
     },
     "execution_count": 117,
     "metadata": {},
     "output_type": "execute_result"
    }
   ],
   "source": [
    "svc_clf.predict([X_test.loc[60001]])"
   ]
  },
  {
   "cell_type": "markdown",
   "id": "8ee54bd3",
   "metadata": {},
   "source": [
    "**Svc_clf predicts 2**"
   ]
  },
  {
   "cell_type": "code",
   "execution_count": 118,
   "id": "820a407d",
   "metadata": {},
   "outputs": [
    {
     "data": {
      "image/png": "[encoded data removed]",
      "text/plain": [
       "<Figure size 432x288 with 1 Axes>"
      ]
     },
     "metadata": {
      "needs_background": "light"
     },
     "output_type": "display_data"
    }
   ],
   "source": [
    "some_digit = X_test.loc[60001]\n",
    "some_digit = np.array(some_digit).reshape(28,28)\n",
    "\n",
    "plt.imshow(some_digit, cmap='binary')\n",
    "plt.show()"
   ]
  },
  {
   "cell_type": "markdown",
   "id": "2f92b954",
   "metadata": {},
   "source": [
    "**Correct Classification**"
   ]
  },
  {
   "cell_type": "markdown",
   "id": "794d2ddb",
   "metadata": {},
   "source": [
    "### Decision Scores for Multiple Classes"
   ]
  },
  {
   "cell_type": "code",
   "execution_count": 119,
   "id": "fe4197d6",
   "metadata": {},
   "outputs": [],
   "source": [
    "decision_scores = svc_clf.decision_function([X_test.loc[60001]])"
   ]
  },
  {
   "cell_type": "code",
   "execution_count": 120,
   "id": "6db2a9f8",
   "metadata": {},
   "outputs": [
    {
     "data": {
      "text/plain": [
       "array([[ 4.18553231,  4.18761078,  9.31442588,  8.29394839,  0.68969725,\n",
       "         5.27476167,  7.28364539, -0.31459029,  5.28430293,  1.69121956]])"
      ]
     },
     "execution_count": 120,
     "metadata": {},
     "output_type": "execute_result"
    }
   ],
   "source": [
    "decision_scores"
   ]
  },
  {
   "cell_type": "markdown",
   "id": "1dcec0e2",
   "metadata": {},
   "source": [
    "**There are 10 decision scores, one for each class. The maximum score is that of 2, hence, model predicts 2**"
   ]
  },
  {
   "cell_type": "code",
   "execution_count": 121,
   "id": "d3ccf839",
   "metadata": {},
   "outputs": [
    {
     "data": {
      "text/plain": [
       "2"
      ]
     },
     "execution_count": 121,
     "metadata": {},
     "output_type": "execute_result"
    }
   ],
   "source": [
    "np.argmax(decision_scores)"
   ]
  },
  {
   "cell_type": "markdown",
   "id": "a43c1f78",
   "metadata": {},
   "source": [
    "**Classes are stored in the classes_ attribute of our classifier object**"
   ]
  },
  {
   "cell_type": "code",
   "execution_count": 122,
   "id": "3729d6a5",
   "metadata": {},
   "outputs": [
    {
     "data": {
      "text/plain": [
       "array([0, 1, 2, 3, 4, 5, 6, 7, 8, 9], dtype=uint8)"
      ]
     },
     "execution_count": 122,
     "metadata": {},
     "output_type": "execute_result"
    }
   ],
   "source": [
    "svc_clf.classes_"
   ]
  },
  {
   "cell_type": "markdown",
   "id": "b92bf4f2",
   "metadata": {},
   "source": [
    "### OvR vs OvO strategies"
   ]
  },
  {
   "cell_type": "markdown",
   "id": "ffc4fa9f",
   "metadata": {},
   "source": [
    "**One vs Rest strategy** involves making n classifiers for n classes. One for each class. In this case, 10 classifiers, 1-detector, 2-detector, 3-detector and so on. When classifying an image we pass it through all classifiers and get the scores, then we select the one with the highest score <br>\n",
    "**One vs One strategy** involves making n * (n-1)/2 classifiers for n classes. In this case, we will make 1vs2 classifier, 1vs2 classifer, 1vs3 classifier and so on. It will take 45 classes in this case. When we are making a classification, we will pass our image through all 45 classifiers and select the class which wins the most duels."
   ]
  },
  {
   "cell_type": "code",
   "execution_count": null,
   "id": "ddd414a2",
   "metadata": {},
   "outputs": [],
   "source": []
  },
  {
   "cell_type": "code",
   "execution_count": 123,
   "id": "1684c4e4",
   "metadata": {},
   "outputs": [
    {
     "data": {
      "text/plain": [
       "SGDClassifier(random_state=42)"
      ]
     },
     "execution_count": 123,
     "metadata": {},
     "output_type": "execute_result"
    }
   ],
   "source": [
    "sgd_clf.fit(X_train, y_train)"
   ]
  },
  {
   "cell_type": "code",
   "execution_count": 126,
   "id": "761583c5",
   "metadata": {},
   "outputs": [
    {
     "data": {
      "text/plain": [
       "array([0], dtype=uint8)"
      ]
     },
     "execution_count": 126,
     "metadata": {},
     "output_type": "execute_result"
    }
   ],
   "source": [
    "sgd_clf.predict([X_train.loc[1]])"
   ]
  },
  {
   "cell_type": "code",
   "execution_count": 127,
   "id": "ca5af8b5",
   "metadata": {},
   "outputs": [
    {
     "data": {
      "image/png": "[encoded data removed]",
      "text/plain": [
       "<Figure size 432x288 with 1 Axes>"
      ]
     },
     "metadata": {
      "needs_background": "light"
     },
     "output_type": "display_data"
    }
   ],
   "source": [
    "some_digit = X_train.loc[1]\n",
    "some_digit = np.array(some_digit).reshape(28,28)\n",
    "\n",
    "plt.imshow(some_digit, cmap='binary')\n",
    "plt.show()"
   ]
  },
  {
   "cell_type": "code",
   "execution_count": 130,
   "id": "6026d645",
   "metadata": {},
   "outputs": [
    {
     "data": {
      "text/plain": [
       "array([[ 14390.59839396, -36919.31719967,  -9811.47434817,\n",
       "         -8054.56345089, -21825.25725463, -11313.62371972,\n",
       "        -23649.39025808, -15986.78463914,  -3798.52944589,\n",
       "        -10635.46503726]])"
      ]
     },
     "execution_count": 130,
     "metadata": {},
     "output_type": "execute_result"
    }
   ],
   "source": [
    "sgd_clf.decision_function([X_train.loc[1]])"
   ]
  },
  {
   "cell_type": "code",
   "execution_count": 133,
   "id": "3e4503a0",
   "metadata": {},
   "outputs": [
    {
     "data": {
      "text/plain": [
       "array([0.87365, 0.85835, 0.8689 ])"
      ]
     },
     "execution_count": 133,
     "metadata": {},
     "output_type": "execute_result"
    }
   ],
   "source": [
    "from sklearn.model_selection import cross_val_score\n",
    "\n",
    "cross_val_score(sgd_clf, X_train, y_train, cv=3, scoring=\"accuracy\")"
   ]
  },
  {
   "cell_type": "code",
   "execution_count": 136,
   "id": "02cb78f9",
   "metadata": {},
   "outputs": [],
   "source": [
    "from sklearn.preprocessing import StandardScaler\n",
    "\n",
    "scaler = StandardScaler()\n",
    "X_train_scaled = scaler.fit_transform(X_train.astype(np.float64))"
   ]
  },
  {
   "cell_type": "code",
   "execution_count": 139,
   "id": "36230ad5",
   "metadata": {},
   "outputs": [
    {
     "data": {
      "text/plain": [
       "array([0.8983, 0.891 , 0.9018])"
      ]
     },
     "execution_count": 139,
     "metadata": {},
     "output_type": "execute_result"
    }
   ],
   "source": [
    "cross_val_score(sgd_clf, X_train_scaled, y_train, cv=3, scoring=\"accuracy\")"
   ]
  },
  {
   "cell_type": "markdown",
   "id": "dc77e5b9",
   "metadata": {},
   "source": [
    "### Error Analysis"
   ]
  },
  {
   "cell_type": "code",
   "execution_count": 141,
   "id": "62264fcb",
   "metadata": {},
   "outputs": [],
   "source": [
    "y_train_pred = cross_val_predict(sgd_clf, X_train_scaled, y_train, cv=3)"
   ]
  },
  {
   "cell_type": "code",
   "execution_count": 142,
   "id": "bf89db21",
   "metadata": {},
   "outputs": [
    {
     "data": {
      "text/plain": [
       "array([[5577,    0,   22,    5,    8,   43,   36,    6,  225,    1],\n",
       "       [   0, 6400,   37,   24,    4,   44,    4,    7,  212,   10],\n",
       "       [  27,   27, 5220,   92,   73,   27,   67,   36,  378,   11],\n",
       "       [  22,   17,  117, 5227,    2,  203,   27,   40,  403,   73],\n",
       "       [  12,   14,   41,    9, 5182,   12,   34,   27,  347,  164],\n",
       "       [  27,   15,   30,  168,   53, 4444,   75,   14,  535,   60],\n",
       "       [  30,   15,   42,    3,   44,   97, 5552,    3,  131,    1],\n",
       "       [  21,   10,   51,   30,   49,   12,    3, 5684,  195,  210],\n",
       "       [  17,   63,   48,   86,    3,  126,   25,   10, 5429,   44],\n",
       "       [  25,   18,   30,   64,  118,   36,    1,  179,  371, 5107]],\n",
       "      dtype=int64)"
      ]
     },
     "execution_count": 142,
     "metadata": {},
     "output_type": "execute_result"
    }
   ],
   "source": [
    "conf_matrix = confusion_matrix(y_train, y_train_pred)\n",
    "conf_matrix"
   ]
  },
  {
   "cell_type": "code",
   "execution_count": 143,
   "id": "1c6347d9",
   "metadata": {},
   "outputs": [
    {
     "data": {
      "text/plain": [
       "<matplotlib.image.AxesImage at 0x26ae477fa30>"
      ]
     },
     "execution_count": 143,
     "metadata": {},
     "output_type": "execute_result"
    },
    {
     "data": {
      "image/png": "[encoded data removed]",
      "text/plain": [
       "<Figure size 288x288 with 1 Axes>"
      ]
     },
     "metadata": {
      "needs_background": "light"
     },
     "output_type": "display_data"
    }
   ],
   "source": [
    "plt.matshow(conf_matrix, cmap=plt.cm.gray)"
   ]
  },
  {
   "cell_type": "code",
   "execution_count": 144,
   "id": "54675132",
   "metadata": {},
   "outputs": [],
   "source": [
    "sum_rows = conf_matrix.sum(axis=1, keepdims=True)"
   ]
  },
  {
   "cell_type": "code",
   "execution_count": 145,
   "id": "2bb596cb",
   "metadata": {},
   "outputs": [
    {
     "data": {
      "text/plain": [
       "array([[5923],\n",
       "       [6742],\n",
       "       [5958],\n",
       "       [6131],\n",
       "       [5842],\n",
       "       [5421],\n",
       "       [5918],\n",
       "       [6265],\n",
       "       [5851],\n",
       "       [5949]], dtype=int64)"
      ]
     },
     "execution_count": 145,
     "metadata": {},
     "output_type": "execute_result"
    }
   ],
   "source": [
    "sum_rows"
   ]
  },
  {
   "cell_type": "code",
   "execution_count": 149,
   "id": "2c50f29a",
   "metadata": {},
   "outputs": [
    {
     "data": {
      "image/png": "[encoded data removed]",
      "text/plain": [
       "<Figure size 288x288 with 1 Axes>"
      ]
     },
     "metadata": {
      "needs_background": "light"
     },
     "output_type": "display_data"
    }
   ],
   "source": [
    "norm_conf_matrix = conf_matrix / sum_rows\n",
    "\n",
    "np.fill_diagonal(norm_conf_matrix, 0)\n",
    "plt.matshow(norm_conf_matrix, cmap=plt.cm.gray)\n",
    "plt.show()"
   ]
  },
  {
   "cell_type": "markdown",
   "id": "7453c82f",
   "metadata": {},
   "source": [
    "**Hence, it is evident from this map that whenever model predicts 8, it is wrong the most. Also, 5 and 3 are confused both ways**"
   ]
  },
  {
   "cell_type": "code",
   "execution_count": null,
   "id": "f1bcc6f8",
   "metadata": {},
   "outputs": [],
   "source": []
  }
 ],
 "metadata": {
  "kernelspec": {
   "display_name": "Python 3",
   "language": "python",
   "name": "python3"
  },
  "language_info": {
   "codemirror_mode": {
    "name": "ipython",
    "version": 3
   },
   "file_extension": ".py",
   "mimetype": "text/x-python",
   "name": "python",
   "nbconvert_exporter": "python",
   "pygments_lexer": "ipython3",
   "version": "3.8.8"
  }
 },
 "nbformat": 4,
 "nbformat_minor": 5
}
